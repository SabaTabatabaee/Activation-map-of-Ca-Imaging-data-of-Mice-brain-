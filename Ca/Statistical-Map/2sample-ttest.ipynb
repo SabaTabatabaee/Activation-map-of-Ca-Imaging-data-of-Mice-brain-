{
 "cells": [
  {
   "cell_type": "markdown",
   "id": "b88d84f5",
   "metadata": {},
   "source": [
    "# Ca Data"
   ]
  },
  {
   "cell_type": "markdown",
   "id": "935a7e5c",
   "metadata": {},
   "source": [
    "# Comparing during stimulation and no stimulation conditions using ttest at the group level (groups of subjects)"
   ]
  },
  {
   "cell_type": "markdown",
   "id": "b5e98134",
   "metadata": {},
   "source": [
    "1) Photo bleaching (excluding first 500 samples) and normalization (Delta f/f)\n",
    "\n",
    "2) Defining two windows (one for signal during stimulation (5 seconds and shifting back by 5 samples) and one for signal during no stimulation (25 seconds after stimulation offsets)\n",
    "\n",
    "3) Averaging all windows across all runs for each subjects\n",
    "\n",
    "4) Averaging across all 50 samples in these two windows to get a vector :(540,1) for each subject to get pvalue and statistic\n",
    "\n",
    "5) Calculating T-test for each 540 ROIs "
   ]
  },
  {
   "cell_type": "code",
   "execution_count": 26,
   "id": "e8f28dd5",
   "metadata": {},
   "outputs": [],
   "source": [
    "import warnings\n",
    "warnings.filterwarnings('ignore')"
   ]
  },
  {
   "cell_type": "code",
   "execution_count": 27,
   "id": "5e1ceb98",
   "metadata": {},
   "outputs": [],
   "source": [
    "def avg(subject, type):\n",
    "    subject=subject\n",
    "    type=type\n",
    "    run=['run-1','run-2','run-3','run-4','run-5','run-6']\n",
    "    ses=['ses-1','ses-2','ses-3']\n",
    "    path_stim='/Users/sabatb/Documents/stim/*.*'\n",
    "    if type == 'LED':\n",
    "        path=\"/Users/sabatb/Documents/Ca2_Data/ca2/*.*\"\n",
    "        count_run_ses=0; count_total=0\n",
    "        stim_t=np.empty((540,500)); stim_t[:]=np.nan; \n",
    "        rest_t=np.empty((540,500)); rest_t[:]=np.nan; \n",
    "        stim=np.empty((540,50)); stim[:]=np.nan; \n",
    "        rest=np.empty((540,50)); rest[:]=np.nan; \n",
    "        average_stim=np.empty((540,50)); average_stim[:]=np.nan; \n",
    "        average_rest=np.empty((540,50)); average_rest[:]=np.nan; \n",
    "        for file in glob.glob(path):\n",
    "            load_data=np.load(file)\n",
    "            base=os.path.basename(file)\n",
    "            base=os.path.splitext(base)[0]\n",
    "            for i in run:\n",
    "                for j in ses:\n",
    "                    if subject in base and i in base and j in  base and 'led' in base:\n",
    "                        count_total=count_total+1\n",
    "                        p=0\n",
    "                        f0=np.nanmean(load_data[:,500:],axis=1)\n",
    "                        mat_norm=np.empty((540,5999)); mat_norm[:]=np.nan;\n",
    "                        for i_norm in range (540):\n",
    "                            for j_norm in range (5999):\n",
    "                                mat_norm[i_norm,j_norm]=(load_data[i_norm,j_norm]-f0[i_norm])/abs(f0[i_norm])\n",
    "                        mat_stim=np.empty((540,10)); mat_stim[:]=np.nan; avg_stim=np.empty((540,50)); avg_stim[:]=np.nan\n",
    "                        mat_rest=np.empty((540,10)); mat_rest[:]=np.nan; avg_rest=np.empty((540,50)); avg_rest[:]=np.nan\n",
    "                        for file_stim in glob.glob(path_stim):\n",
    "                            load_data_stim=pd.read_csv(file_stim, on_bad_lines='skip')\n",
    "                            base_stim=os.path.basename(file_stim)\n",
    "                            base_stim=os.path.splitext(base_stim)[0]\n",
    "                            if subject in base_stim and i in base_stim and j in base_stim and 'led' in base_stim:\n",
    "                                load_data_stim.drop(columns = load_data_stim.columns[0], axis = 1, inplace= True)\n",
    "                                load_data_stim.drop(columns = load_data_stim.columns[0], axis = 1, inplace= True)    \n",
    "                                result = np.where(load_data_stim == 1)[0]\n",
    "                                res = []\n",
    "                                for idx in range(1, len(result)):\n",
    "                                    if result[idx] - result[idx-1] >60:\n",
    "                                        res.append(result[idx]-5)\n",
    "                                if 'sub-SLC06' in base_stim and 'ses-1' in base_stim and 'run-2' in base_stim:\n",
    "                                    res = res[:-1] \n",
    "                                for window_j in range(50):\n",
    "                                    m=0\n",
    "                                    for window_i in res:\n",
    "                                        mat_stim[:,m]=mat_norm[:,window_j+window_i]\n",
    "                                        mat_rest[:,m]=mat_norm[:,window_j+window_i+300]\n",
    "                                        m=m+1\n",
    "                                    avg_stim[:,p]=np.nanmean(mat_stim, axis=1)\n",
    "                                    avg_rest[:,p]=np.nanmean(mat_rest, axis=1)\n",
    "                                    p=p+1\n",
    "                                stim_t[:,count_run_ses:count_run_ses+50]=avg_stim\n",
    "                                rest_t[:,count_run_ses:count_run_ses+50]=avg_rest\n",
    "                                count_run_ses=count_run_ses+50\n",
    "        for numbers1 in range(0,50): \n",
    "            k=0\n",
    "            for numbers2 in range(0,(count_total)*50,50):   \n",
    "                stim[:,k]=stim_t[:,numbers1+numbers2]\n",
    "                rest[:,k]=rest_t[:,numbers1+numbers2]\n",
    "                k=k+1\n",
    "            average_stim[:,numbers1]=np.nanmean(stim, axis=1)\n",
    "            average_rest[:,numbers1]=np.nanmean(rest, axis=1)\n",
    "\n",
    "        return average_stim, average_rest\n"
   ]
  },
  {
   "cell_type": "code",
   "execution_count": 28,
   "id": "91daa4fc",
   "metadata": {},
   "outputs": [],
   "source": [
    "import numpy as np\n",
    "import glob\n",
    "import pandas as pd\n",
    "import os\n",
    "stim_subj01, rest_subj01=avg('sub-SLC01', 'LED')\n",
    "stim_subj02, rest_subj02=avg('sub-SLC02', 'LED')\n",
    "stim_subj03, rest_subj03=avg('sub-SLC03', 'LED')\n",
    "stim_subj04, rest_subj04=avg('sub-SLC04', 'LED')\n",
    "stim_subj05, rest_subj05=avg('sub-SLC05', 'LED')\n",
    "stim_subj06, rest_subj06=avg('sub-SLC06', 'LED')\n",
    "stim_subj07, rest_subj07=avg('sub-SLC07', 'LED')\n",
    "stim_subj08, rest_subj08=avg('sub-SLC08', 'LED')\n",
    "stim_subj09, rest_subj09=avg('sub-SLC09', 'LED')\n",
    "stim_subj10, rest_subj10=avg('sub-SLC10', 'LED')"
   ]
  },
  {
   "cell_type": "code",
   "execution_count": 29,
   "id": "0c4d4dc3",
   "metadata": {},
   "outputs": [],
   "source": [
    "average_stim_subj01=np.nanmean(stim_subj01, axis=1)\n",
    "average_rest_subj01=np.nanmean(rest_subj01, axis=1)\n",
    "average_stim_subj02=np.nanmean(stim_subj02, axis=1)\n",
    "average_rest_subj02=np.nanmean(rest_subj02, axis=1)\n",
    "average_stim_subj03=np.nanmean(stim_subj03, axis=1)\n",
    "average_rest_subj03=np.nanmean(rest_subj03, axis=1)\n",
    "average_stim_subj04=np.nanmean(stim_subj04, axis=1)\n",
    "average_rest_subj04=np.nanmean(rest_subj04, axis=1)\n",
    "average_stim_subj05=np.nanmean(stim_subj05, axis=1)\n",
    "average_rest_subj05=np.nanmean(rest_subj05, axis=1)\n",
    "average_stim_subj06=np.nanmean(stim_subj06, axis=1)\n",
    "average_rest_subj06=np.nanmean(rest_subj06, axis=1)\n",
    "average_stim_subj07=np.nanmean(stim_subj07, axis=1)\n",
    "average_rest_subj07=np.nanmean(rest_subj07, axis=1)\n",
    "average_stim_subj08=np.nanmean(stim_subj08, axis=1)\n",
    "average_rest_subj08=np.nanmean(rest_subj08, axis=1)\n",
    "average_stim_subj09=np.nanmean(stim_subj09, axis=1)\n",
    "average_rest_subj09=np.nanmean(rest_subj09, axis=1)\n",
    "average_stim_subj10=np.nanmean(stim_subj10, axis=1)\n",
    "average_rest_subj10=np.nanmean(rest_subj10, axis=1)"
   ]
  },
  {
   "cell_type": "code",
   "execution_count": 30,
   "id": "f5abb123",
   "metadata": {},
   "outputs": [],
   "source": [
    "during_stim=np.empty((540,10)); during_stim[:]=np.nan\n",
    "during_nostim=np.empty((540,10)); during_nostim[:]=np.nan\n",
    "for i in range (540):\n",
    "    m=0\n",
    "    during_stim[i,m]=average_stim_subj01[i]\n",
    "    during_nostim[i,m]=average_rest_subj01[i]\n",
    "    m=m+1\n",
    "    during_stim[i,m]=average_stim_subj02[i]\n",
    "    during_nostim[i,m]=average_rest_subj02[i]\n",
    "    m=m+1\n",
    "    during_stim[i,m]=average_stim_subj03[i]\n",
    "    during_nostim[i,m]=average_rest_subj03[i]\n",
    "    m=m+1\n",
    "    during_stim[i,m]=average_stim_subj04[i]\n",
    "    during_nostim[i,m]=average_rest_subj04[i]\n",
    "    m=m+1\n",
    "    during_stim[i,m]=average_stim_subj05[i]\n",
    "    during_nostim[i,m]=average_rest_subj05[i]\n",
    "    m=m+1\n",
    "    during_stim[i,m]=average_stim_subj06[i]\n",
    "    during_nostim[i,m]=average_rest_subj06[i]\n",
    "    m=m+1\n",
    "    during_stim[i,m]=average_stim_subj07[i]\n",
    "    during_nostim[i,m]=average_rest_subj07[i]\n",
    "    m=m+1\n",
    "    during_stim[i,m]=average_stim_subj08[i]\n",
    "    during_nostim[i,m]=average_rest_subj08[i]\n",
    "    m=m+1\n",
    "    during_stim[i,m]=average_stim_subj09[i]\n",
    "    during_nostim[i,m]=average_rest_subj09[i]\n",
    "    m=m+1\n",
    "    during_stim[i,m]=average_stim_subj10[i]\n",
    "    during_nostim[i,m]=average_rest_subj10[i]\n",
    "    m=m+1"
   ]
  },
  {
   "cell_type": "code",
   "execution_count": 31,
   "id": "409f0711",
   "metadata": {},
   "outputs": [],
   "source": [
    "from scipy import stats\n",
    "pvalue=np.empty((540)); pvalue[:]=np.nan\n",
    "statistic=np.empty((540)); statistic[:]=np.nan\n",
    "for i in range (540):\n",
    "    statistic[i]=stats.ttest_ind(during_stim[i], during_nostim[i], equal_var=False)[0]\n",
    "    pvalue[i]=stats.ttest_ind(during_stim[i], during_nostim[i],equal_var=False)[1]\n",
    "np.save('statistic_between', statistic)\n",
    "np.save('pvalue_between', pvalue)"
   ]
  },
  {
   "cell_type": "code",
   "execution_count": 32,
   "id": "c33cabd4",
   "metadata": {},
   "outputs": [],
   "source": [
    "statistic=np.load('/Users/sabatb/Documents/Luiz1/statistic_between.npy')\n",
    "p=np.where(pvalue<=0.01)[0]\n",
    "for i in range(540):\n",
    "    if i not in p:\n",
    "        statistic[i]=np.nan\n",
    "np.save('stat_between', statistic)        "
   ]
  },
  {
   "cell_type": "markdown",
   "id": "f96ece59",
   "metadata": {},
   "source": [
    "# Plot\n"
   ]
  },
  {
   "cell_type": "code",
   "execution_count": 33,
   "id": "2940b0a3",
   "metadata": {},
   "outputs": [],
   "source": [
    "# HIDE CODE\n",
    "\n",
    "import os\n",
    "import sys\n",
    "from pprint import pprint\n",
    "from copy import deepcopy as dc\n",
    "from os.path import join as pjoin\n",
    "from scipy.ndimage import gaussian_filter\n",
    "from IPython.display import display, IFrame, HTML\n",
    "\n",
    "# code\n",
    "sys.path.insert(0, '/Users/sabatb/Documents/averaging/_Ca-fMRI')\n",
    "from figures.fighelper import *\n",
    "from analysis.final import *\n",
    "from utils.render import *\n",
    "\n",
    "# warnings, tqdm, & style\n",
    "warnings.filterwarnings('ignore', category=DeprecationWarning)\n",
    "from tqdm.notebook import tqdm\n",
    "%matplotlib inline\n",
    "set_style()"
   ]
  },
  {
   "cell_type": "code",
   "execution_count": 34,
   "id": "06fd1af6",
   "metadata": {},
   "outputs": [],
   "source": [
    "topview = np.load('/Users/sabatb/Documents/averaging/topview.npy')\n",
    "topview_mask = np.load('/Users/sabatb/Documents/averaging/topview_mask.npy')"
   ]
  },
  {
   "cell_type": "code",
   "execution_count": 35,
   "id": "a2bee556",
   "metadata": {},
   "outputs": [
    {
     "data": {
      "text/html": [
       "<pre style=\"white-space:pre;overflow-x:auto;line-height:normal;font-family:Menlo,'DejaVu Sans Mono',consolas,'Courier New',monospace\">combine metadata not found, time to run <span style=\"color: #800080; text-decoration-color: #800080; font-weight: bold\">cat_data</span><span style=\"font-weight: bold\">()</span> . . .\n",
       "</pre>\n"
      ],
      "text/plain": [
       "combine metadata not found, time to run \u001b[1;35mcat_data\u001b[0m\u001b[1m(\u001b[0m\u001b[1m)\u001b[0m . . .\n"
      ]
     },
     "metadata": {},
     "output_type": "display_data"
    }
   ],
   "source": [
    "mice = Mice(512)\n",
    "bs = Base(mice, mode='ca2')"
   ]
  },
  {
   "cell_type": "code",
   "execution_count": 36,
   "id": "4f4170f6",
   "metadata": {},
   "outputs": [
    {
     "data": {
      "text/html": [
       "<pre style=\"white-space:pre;overflow-x:auto;line-height:normal;font-family:Menlo,'DejaVu Sans Mono',consolas,'Courier New',monospace\"><span style=\"font-weight: bold\">(</span><span style=\"color: #008080; text-decoration-color: #008080; font-weight: bold\">540</span>,<span style=\"font-weight: bold\">)</span>\n",
       "</pre>\n"
      ],
      "text/plain": [
       "\u001b[1m(\u001b[0m\u001b[1;36m540\u001b[0m,\u001b[1m)\u001b[0m\n"
      ]
     },
     "metadata": {},
     "output_type": "display_data"
    }
   ],
   "source": [
    "path = '/Users/sabatb/Documents/Luiz1'\n",
    "x= np.load(pjoin(path, 'stat_between.npy'))\n",
    "x.shape"
   ]
  },
  {
   "cell_type": "code",
   "execution_count": 37,
   "id": "0bf53e8d",
   "metadata": {},
   "outputs": [
    {
     "data": {
      "text/html": [
       "<pre style=\"white-space:pre;overflow-x:auto;line-height:normal;font-family:Menlo,'DejaVu Sans Mono',consolas,'Courier New',monospace\"><span style=\"font-weight: bold\">([</span><span style=\"color: #008000; text-decoration-color: #008000\">'top'</span>, <span style=\"color: #008000; text-decoration-color: #008000\">'flat'</span><span style=\"font-weight: bold\">]</span>, <span style=\"font-weight: bold\">(</span><span style=\"color: #008080; text-decoration-color: #008080; font-weight: bold\">1</span>, <span style=\"color: #008080; text-decoration-color: #008080; font-weight: bold\">1320</span>, <span style=\"color: #008080; text-decoration-color: #008080; font-weight: bold\">1140</span><span style=\"font-weight: bold\">))</span>\n",
       "</pre>\n"
      ],
      "text/plain": [
       "\u001b[1m(\u001b[0m\u001b[1m[\u001b[0m\u001b[32m'top'\u001b[0m, \u001b[32m'flat'\u001b[0m\u001b[1m]\u001b[0m, \u001b[1m(\u001b[0m\u001b[1;36m1\u001b[0m, \u001b[1;36m1320\u001b[0m, \u001b[1;36m1140\u001b[0m\u001b[1m)\u001b[0m\u001b[1m)\u001b[0m\n"
      ]
     },
     "metadata": {},
     "output_type": "display_data"
    }
   ],
   "source": [
    "proj= bs.project_vec(x.T, layer=0, add_disjoint=False)\n",
    "list(proj), proj['top'].shape"
   ]
  },
  {
   "cell_type": "code",
   "execution_count": 47,
   "id": "1e0b264a",
   "metadata": {},
   "outputs": [
    {
     "data": {
      "image/png": "[encoded data removed]"
     },
     "metadata": {},
     "output_type": "display_data"
    }
   ],
   "source": [
    "fig= plt.figure(figsize=(30, 30))\n",
    "fig.add_subplot(1, 5, 1)\n",
    "plt.imshow(topview, cmap='Greys_r')\n",
    "plt.imshow(mwh(topview_mask == 0, proj['top'][i*10]),cmap='jet')\n",
    "plt.title('Pvalue<=0.01', fontsize = 20)\n",
    "plt.axis('off')\n",
    "cbar =plt.colorbar(shrink=0.16);\n",
    "tick_font_size = 15\n",
    "cbar.ax.tick_params(labelsize=tick_font_size)\n"
   ]
  },
  {
   "cell_type": "code",
   "execution_count": null,
   "id": "3a6cb267",
   "metadata": {},
   "outputs": [],
   "source": []
  }
 ],
 "metadata": {
  "kernelspec": {
   "display_name": "Python 3 (ipykernel)",
   "language": "python",
   "name": "python3"
  },
  "language_info": {
   "codemirror_mode": {
    "name": "ipython",
    "version": 3
   },
   "file_extension": ".py",
   "mimetype": "text/x-python",
   "name": "python",
   "nbconvert_exporter": "python",
   "pygments_lexer": "ipython3",
   "version": "3.9.13"
  }
 },
 "nbformat": 4,
 "nbformat_minor": 5
}
